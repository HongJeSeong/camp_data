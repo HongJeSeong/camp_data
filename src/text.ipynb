{
  "nbformat": 4,
  "nbformat_minor": 0,
  "metadata": {
    "colab": {
      "name": "text.ipynb",
      "provenance": [],
      "collapsed_sections": []
    },
    "kernelspec": {
      "name": "python3",
      "display_name": "Python 3"
    }
  },
  "cells": [
    {
      "cell_type": "code",
      "metadata": {
        "colab": {
          "base_uri": "https://localhost:8080/"
        },
        "id": "X8nTy7_MxmmR",
        "outputId": "b12e651f-22e5-459f-eeee-158d9a3ded10"
      },
      "source": [
        "!rm -rf camp_data\r\n",
        "!git clone https://github.com/HongJeSeong/camp_data.git"
      ],
      "execution_count": 33,
      "outputs": [
        {
          "output_type": "stream",
          "text": [
            "Cloning into 'camp_data'...\n",
            "remote: Enumerating objects: 111, done.\u001b[K\n",
            "remote: Counting objects: 100% (111/111), done.\u001b[K\n",
            "remote: Compressing objects: 100% (105/105), done.\u001b[K\n",
            "remote: Total 111 (delta 40), reused 0 (delta 0), pack-reused 0\u001b[K\n",
            "Receiving objects: 100% (111/111), 1.82 MiB | 5.10 MiB/s, done.\n",
            "Resolving deltas: 100% (40/40), done.\n"
          ],
          "name": "stdout"
        }
      ]
    },
    {
      "cell_type": "code",
      "metadata": {
        "colab": {
          "base_uri": "https://localhost:8080/"
        },
        "id": "5zttfHdSxo_X",
        "outputId": "44fccff1-75db-48b9-85a9-7465dda9c985"
      },
      "source": [
        "!ls camp_data"
      ],
      "execution_count": 34,
      "outputs": [
        {
          "output_type": "stream",
          "text": [
            "a.csv\t\tcovidTime.csv  influenzaCovid.csv  review.txt  weather_mod.csv\n",
            "covidKorea.csv\timg\t       README.md\t   src\t       wine.csv\n"
          ],
          "name": "stdout"
        }
      ]
    },
    {
      "cell_type": "code",
      "metadata": {
        "colab": {
          "base_uri": "https://localhost:8080/",
          "height": 399
        },
        "id": "uKaScMsMxsT9",
        "outputId": "bd9b6709-5ec3-4b63-ee1a-01e85b4d702e"
      },
      "source": [
        "import pandas as pd\r\n",
        "df = pd.read_csv(\"camp_data/review.txt\", names=['sentence', 'label'], sep='\\t')\r\n",
        "df"
      ],
      "execution_count": 35,
      "outputs": [
        {
          "output_type": "execute_result",
          "data": {
            "text/html": [
              "<div>\n",
              "<style scoped>\n",
              "    .dataframe tbody tr th:only-of-type {\n",
              "        vertical-align: middle;\n",
              "    }\n",
              "\n",
              "    .dataframe tbody tr th {\n",
              "        vertical-align: top;\n",
              "    }\n",
              "\n",
              "    .dataframe thead th {\n",
              "        text-align: right;\n",
              "    }\n",
              "</style>\n",
              "<table border=\"1\" class=\"dataframe\">\n",
              "  <thead>\n",
              "    <tr style=\"text-align: right;\">\n",
              "      <th></th>\n",
              "      <th>sentence</th>\n",
              "      <th>label</th>\n",
              "    </tr>\n",
              "  </thead>\n",
              "  <tbody>\n",
              "    <tr>\n",
              "      <th>0</th>\n",
              "      <td>So there is no way for me to plug it in here i...</td>\n",
              "      <td>0</td>\n",
              "    </tr>\n",
              "    <tr>\n",
              "      <th>1</th>\n",
              "      <td>Good case, Excellent value.</td>\n",
              "      <td>1</td>\n",
              "    </tr>\n",
              "    <tr>\n",
              "      <th>2</th>\n",
              "      <td>Great for the jawbone.</td>\n",
              "      <td>1</td>\n",
              "    </tr>\n",
              "    <tr>\n",
              "      <th>3</th>\n",
              "      <td>Tied to charger for conversations lasting more...</td>\n",
              "      <td>0</td>\n",
              "    </tr>\n",
              "    <tr>\n",
              "      <th>4</th>\n",
              "      <td>The mic is great.</td>\n",
              "      <td>1</td>\n",
              "    </tr>\n",
              "    <tr>\n",
              "      <th>...</th>\n",
              "      <td>...</td>\n",
              "      <td>...</td>\n",
              "    </tr>\n",
              "    <tr>\n",
              "      <th>2743</th>\n",
              "      <td>I think food should have flavor and texture an...</td>\n",
              "      <td>0</td>\n",
              "    </tr>\n",
              "    <tr>\n",
              "      <th>2744</th>\n",
              "      <td>Appetite instantly gone.</td>\n",
              "      <td>0</td>\n",
              "    </tr>\n",
              "    <tr>\n",
              "      <th>2745</th>\n",
              "      <td>Overall I was not impressed and would not go b...</td>\n",
              "      <td>0</td>\n",
              "    </tr>\n",
              "    <tr>\n",
              "      <th>2746</th>\n",
              "      <td>The whole experience was underwhelming, and I ...</td>\n",
              "      <td>0</td>\n",
              "    </tr>\n",
              "    <tr>\n",
              "      <th>2747</th>\n",
              "      <td>Then, as if I hadn't wasted enough of my life ...</td>\n",
              "      <td>0</td>\n",
              "    </tr>\n",
              "  </tbody>\n",
              "</table>\n",
              "<p>2748 rows × 2 columns</p>\n",
              "</div>"
            ],
            "text/plain": [
              "                                               sentence  label\n",
              "0     So there is no way for me to plug it in here i...      0\n",
              "1                           Good case, Excellent value.      1\n",
              "2                                Great for the jawbone.      1\n",
              "3     Tied to charger for conversations lasting more...      0\n",
              "4                                     The mic is great.      1\n",
              "...                                                 ...    ...\n",
              "2743  I think food should have flavor and texture an...      0\n",
              "2744                           Appetite instantly gone.      0\n",
              "2745  Overall I was not impressed and would not go b...      0\n",
              "2746  The whole experience was underwhelming, and I ...      0\n",
              "2747  Then, as if I hadn't wasted enough of my life ...      0\n",
              "\n",
              "[2748 rows x 2 columns]"
            ]
          },
          "metadata": {
            "tags": []
          },
          "execution_count": 35
        }
      ]
    },
    {
      "cell_type": "code",
      "metadata": {
        "id": "V7SRlPJ60lSW"
      },
      "source": [
        "from sklearn.model_selection import train_test_split\r\n",
        "x = df['sentence'].values\r\n",
        "y = df['label'].values\r\n",
        "\r\n",
        "x_train, x_test, y_train, y_test = train_test_split(x, y, test_size=0.3, random_state=20)"
      ],
      "execution_count": 63,
      "outputs": []
    },
    {
      "cell_type": "markdown",
      "metadata": {
        "id": "y9KDQlHV9fZX"
      },
      "source": [
        "데이터를 읽어 들이고\r\n",
        "단어 빈도에 따른 사용할 단어 개수의 최대값. 가장 빈번하게 사용되는 num_words개의 단어만 저장"
      ]
    },
    {
      "cell_type": "code",
      "metadata": {
        "id": "F9fmcW8sxy7t"
      },
      "source": [
        "from keras.preprocessing.text import Tokenizer\r\n",
        "from keras.preprocessing.sequence import pad_sequences\r\n",
        "\r\n",
        "tokenizer = Tokenizer(num_words=500)\r\n",
        "tokenizer.fit_on_texts(x)\r\n",
        "xtrain= tokenizer.texts_to_sequences(x_train)\r\n",
        "xtest= tokenizer.texts_to_sequences(x_test) \r\n",
        "vocab_size=len(tokenizer.word_index)+1"
      ],
      "execution_count": 72,
      "outputs": []
    },
    {
      "cell_type": "code",
      "metadata": {
        "id": "hwJcn5VY6WEQ"
      },
      "source": [
        "tokenizer.word_index"
      ],
      "execution_count": null,
      "outputs": []
    },
    {
      "cell_type": "code",
      "metadata": {
        "colab": {
          "base_uri": "https://localhost:8080/"
        },
        "id": "0jm207W1x6gF",
        "outputId": "8cc2c8ff-d175-4fab-8e4c-05e60456b926"
      },
      "source": [
        "x_train[5], xtrain[5]"
      ],
      "execution_count": 74,
      "outputs": [
        {
          "output_type": "execute_result",
          "data": {
            "text/plain": [
              "(\"I don't each much pasta, but I love the homemade /hand made pastas and thin pizzas here.\",\n",
              " [3, 64, 325, 106, 22, 3, 79, 1, 83, 2, 66])"
            ]
          },
          "metadata": {
            "tags": []
          },
          "execution_count": 74
        }
      ]
    },
    {
      "cell_type": "markdown",
      "metadata": {
        "id": "uqDAsHxvAnCW"
      },
      "source": [
        "![padding](https://raw.githubusercontent.com/HongJeSeong/camp_data/main/img/padding.PNG)\r\n",
        "(https://raw.githubusercontent.com/HongJeSeong/camp_data/main/img/padding.PNG)"
      ]
    },
    {
      "cell_type": "code",
      "metadata": {
        "id": "QADXxUAU20GO"
      },
      "source": [
        "xtrain=pad_sequences(xtrain,padding='post', maxlen=20)\r\n",
        "xtest=pad_sequences(xtest,padding='post', maxlen=20)"
      ],
      "execution_count": 75,
      "outputs": []
    },
    {
      "cell_type": "code",
      "metadata": {
        "colab": {
          "base_uri": "https://localhost:8080/"
        },
        "id": "TF4aw6ID3ayl",
        "outputId": "e8fc8513-0e7e-4a54-aec6-bd8a15a2f46d"
      },
      "source": [
        "xtrain[1]"
      ],
      "execution_count": 76,
      "outputs": [
        {
          "output_type": "execute_result",
          "data": {
            "text/plain": [
              "array([228,  66,  50,  10,  58, 477, 122,  59,  89,   7, 252,  68,   0,\n",
              "         0,   0,   0,   0,   0,   0,   0], dtype=int32)"
            ]
          },
          "metadata": {
            "tags": []
          },
          "execution_count": 76
        }
      ]
    },
    {
      "cell_type": "code",
      "metadata": {
        "id": "6osqav0P3cFd"
      },
      "source": [
        "from tensorflow.keras.models import Sequential\r\n",
        "from tensorflow.keras.layers import LSTM,Dense, Dropout\r\n",
        "from tensorflow.keras.layers import Embedding\r\n",
        "embedding_vector_length = 32\r\n",
        "model = Sequential()\r\n",
        "model.add(Embedding(vocab_size, embedding_vector_length, input_length=20) )\r\n",
        "model.add(LSTM(50, dropout=0.5, recurrent_dropout=0.5))\r\n",
        "model.add(Dropout(0.2))\r\n",
        "model.add(Dense(1, activation='sigmoid'))\r\n",
        "model.compile(loss='binary_crossentropy',optimizer='adam', metrics=['accuracy'])"
      ],
      "execution_count": 93,
      "outputs": []
    },
    {
      "cell_type": "markdown",
      "metadata": {
        "id": "bnYazN4vBKcB"
      },
      "source": [
        "![d](https://raw.githubusercontent.com/HongJeSeong/camp_data/main/img/dropout.PNG)\r\n",
        "(https://raw.githubusercontent.com/HongJeSeong/camp_data/main/img/dropout.PNG)\r\n",
        "학습의 오버피팅을 줄이기 위한 레이어"
      ]
    },
    {
      "cell_type": "code",
      "metadata": {
        "id": "2X4p8oLg4evN"
      },
      "source": [
        "history = model.fit(xtrain,y_train, epochs=120, verbose=1,validation_data=(xtest,y_test))"
      ],
      "execution_count": null,
      "outputs": []
    },
    {
      "cell_type": "code",
      "metadata": {
        "id": "xv4LLjIbo_d5"
      },
      "source": [
        "import matplotlib.pyplot as plt\r\n",
        "plt.figure(figsize=(18, 10))\r\n",
        "plt.plot(history.history['accuracy'])\r\n",
        "plt.plot(history.history['val_accuracy'])\r\n",
        "plt.title('model_accuracy')\r\n",
        "plt.ylabel('accuracy')\r\n",
        "plt.xlabel('epoch')\r\n",
        "plt.legend(['train', 'test'], loc='best')\r\n",
        "plt.show()"
      ],
      "execution_count": null,
      "outputs": []
    },
    {
      "cell_type": "code",
      "metadata": {
        "id": "h61ecf3gqh3r"
      },
      "source": [
        "import numpy as np\r\n",
        "def pred_result(text,model):\r\n",
        "  text= tokenizer.texts_to_sequences(text)\r\n",
        "  text=pad_sequences(text,padding='post', maxlen=20)\r\n",
        "  pred = model.predict(text)\r\n",
        "\r\n",
        "  print(\"확률 : \",pred)\r\n",
        "  if pred > 0.5:\r\n",
        "    print(\"Positive\")\r\n",
        "  else:\r\n",
        "    print(\"Negative\")\r\n"
      ],
      "execution_count": 91,
      "outputs": []
    },
    {
      "cell_type": "code",
      "metadata": {
        "colab": {
          "base_uri": "https://localhost:8080/"
        },
        "id": "NtokpXxRvkxI",
        "outputId": "93becb0d-1651-4b6d-86e6-f219aa44d38a"
      },
      "source": [
        "pred_result([\"great\"],model)"
      ],
      "execution_count": 92,
      "outputs": [
        {
          "output_type": "stream",
          "text": [
            "확률 :  [[0.99611855]]\n",
            "Positive\n"
          ],
          "name": "stdout"
        }
      ]
    },
    {
      "cell_type": "code",
      "metadata": {
        "id": "mqTe79lEyFgi"
      },
      "source": [
        ""
      ],
      "execution_count": null,
      "outputs": []
    }
  ]
}